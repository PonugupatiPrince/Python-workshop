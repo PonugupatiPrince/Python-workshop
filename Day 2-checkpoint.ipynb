{
 "cells": [
  {
   "cell_type": "markdown",
   "metadata": {},
   "source": [
    "# Functions:\n",
    "- Block of codes to perform particular task \n",
    "- advantages   \n",
    "    -code reuse \n",
    "    -size decrese\n",
    " Types of functions:\n",
    " 1. Predefine\n",
    " 2. user define \n",
    " 3. special\n",
    "   - based on return type\n",
    "      1. without arg and without return value\n",
    "      2. without arg and with return value \n",
    "      3. with arg and without return value \n",
    "      4. with arg and with retrn value \n",
    "   - based on Arg \n",
    "      1. default arg\n",
    "      2. required arg \n",
    "      3. variable length arg\n",
    "      4. keyword arg"
   ]
  },
  {
   "cell_type": "code",
   "execution_count": 7,
   "metadata": {},
   "outputs": [
    {
     "ename": "SyntaxError",
     "evalue": "invalid syntax (<ipython-input-7-9b24ad3aa73a>, line 2)",
     "output_type": "error",
     "traceback": [
      "\u001b[1;36m  File \u001b[1;32m\"<ipython-input-7-9b24ad3aa73a>\"\u001b[1;36m, line \u001b[1;32m2\u001b[0m\n\u001b[1;33m    1.function creation\u001b[0m\n\u001b[1;37m             ^\u001b[0m\n\u001b[1;31mSyntaxError\u001b[0m\u001b[1;31m:\u001b[0m invalid syntax\n"
     ]
    }
   ],
   "source": [
    "# how to create user define function \n",
    "1.function creation \n",
    "   1. fun declear\n",
    "       \"def FunctionName(arg)\"\n",
    "   2. fun defination \n",
    "        statements\n",
    "2. function calling\n",
    "       by using function calling"
   ]
  },
  {
   "cell_type": "code",
   "execution_count": 8,
   "metadata": {},
   "outputs": [
    {
     "name": "stdout",
     "output_type": "stream",
     "text": [
      "sample function\n"
     ]
    }
   ],
   "source": [
    "def sample():\n",
    "    print(\"sample function\")\n",
    "sample()"
   ]
  },
  {
   "cell_type": "code",
   "execution_count": 10,
   "metadata": {},
   "outputs": [
    {
     "name": "stdout",
     "output_type": "stream",
     "text": [
      "10\n",
      "10\n",
      "adding of 10 and 10 is 20 \n",
      "10\n",
      "10\n",
      "adding of 10 and 10 is 20 \n",
      "None\n"
     ]
    }
   ],
   "source": [
    "#1. without arg and without return value\n",
    "def fun ():\n",
    "    s1 = int(input())\n",
    "    s2 = int(input())\n",
    "    print(\"adding of {} and {} is {} \".format(s1,s2,s1+s2))\n",
    "fun()\n",
    "s = fun()\n",
    "print(s)"
   ]
  },
  {
   "cell_type": "code",
   "execution_count": 13,
   "metadata": {},
   "outputs": [
    {
     "name": "stdout",
     "output_type": "stream",
     "text": [
      "1\n",
      "2\n",
      "(1, 2, 3)\n"
     ]
    }
   ],
   "source": [
    "#2.without arg and with return value \n",
    "def fun1():\n",
    "    s1 = int(input())\n",
    "    s2 = int(input())\n",
    "    return s1,s2,s1+s2\n",
    "    print(\"adding of {} and {} is {} \".format(s1,s2,s1+s2))\n",
    "s = fun1()\n",
    "print(s)"
   ]
  },
  {
   "cell_type": "code",
   "execution_count": 17,
   "metadata": {},
   "outputs": [
    {
     "name": "stdout",
     "output_type": "stream",
     "text": [
      "mul of 1 and 2 is 2 \n"
     ]
    }
   ],
   "source": [
    "#3. with arg and without return value \n",
    "def fun2(a,b):\n",
    "    print(\"mul of {} and {} is {} \".format(a,b,a*b))\n",
    "fun2(1,2)\n",
    "    "
   ]
  },
  {
   "cell_type": "code",
   "execution_count": 20,
   "metadata": {},
   "outputs": [
    {
     "name": "stdout",
     "output_type": "stream",
     "text": [
      "mul of 40 and 8 is 320 \n",
      "div is5.0 \n"
     ]
    }
   ],
   "source": [
    "#4. with arg and with return value \n",
    "def fun3(a,b):\n",
    "    print(\"mul of {} and {} is {} \".format(a,b,a*b))\n",
    "    return a/b\n",
    "s = fun3(40,8)\n",
    "print(\"div is{} \".format(s))"
   ]
  },
  {
   "cell_type": "code",
   "execution_count": 7,
   "metadata": {},
   "outputs": [
    {
     "data": {
      "text/plain": [
       "15"
      ]
     },
     "execution_count": 7,
     "metadata": {},
     "output_type": "execute_result"
    }
   ],
   "source": [
    "# 1. Default Arguments\n",
    "def default(a = 10,b = 20):\n",
    "    return a**b\n",
    "default(10,5)"
   ]
  },
  {
   "cell_type": "code",
   "execution_count": 19,
   "metadata": {},
   "outputs": [
    {
     "name": "stdout",
     "output_type": "stream",
     "text": [
      "9 2 3 4\n"
     ]
    }
   ],
   "source": [
    "# Required or positional argument\n",
    "def required(a,b=1,c=2,d=3):\n",
    "    print(a,b,c,d)\n",
    "required(9,2,3,4)"
   ]
  },
  {
   "cell_type": "code",
   "execution_count": 35,
   "metadata": {},
   "outputs": [
    {
     "data": {
      "text/plain": [
       "45"
      ]
     },
     "execution_count": 35,
     "metadata": {},
     "output_type": "execute_result"
    }
   ],
   "source": [
    "# 3. Variable length\n",
    "def Var_Len(*a):\n",
    "    s = 0\n",
    "    for i in a:\n",
    "        s+=i\n",
    "    return s\n",
    "Var_Len(1,2,3,4,5,6,7,8,9,0)"
   ]
  },
  {
   "cell_type": "code",
   "execution_count": 36,
   "metadata": {},
   "outputs": [
    {
     "data": {
      "text/plain": [
       "55"
      ]
     },
     "execution_count": 36,
     "metadata": {},
     "output_type": "execute_result"
    }
   ],
   "source": [
    "Var_Len(1,2,3,4,5,6,7,8,9,10)"
   ]
  },
  {
   "cell_type": "code",
   "execution_count": 4,
   "metadata": {},
   "outputs": [
    {
     "name": "stdout",
     "output_type": "stream",
     "text": [
      "hello Prince welcome to PACE college\n"
     ]
    }
   ],
   "source": [
    "# 4. keyword arg\n",
    "def keyword(name,college):\n",
    "    print(\"hello {} welcome to {} college\".format(name,college))\n",
    "keyword(college = \"PACE\",name = \"Prince\")"
   ]
  },
  {
   "cell_type": "code",
   "execution_count": 6,
   "metadata": {},
   "outputs": [
    {
     "name": "stdout",
     "output_type": "stream",
     "text": [
      "{'name': ['Prince', 'Rohith', 'Rahul']}\n"
     ]
    }
   ],
   "source": [
    "def key2(**name):\n",
    "    print(name)\n",
    "key2(name = [\"Prince\",\"Rohith\",\"Rahul\"])"
   ]
  },
  {
   "cell_type": "code",
   "execution_count": 5,
   "metadata": {},
   "outputs": [
    {
     "name": "stdout",
     "output_type": "stream",
     "text": [
      "Enter table number: 2\n",
      "Enter table upto: 4\n",
      "2 * 1 = 2\n",
      "2 * 2 = 4\n",
      "2 * 3 = 6\n",
      "2 * 4 = 8\n"
     ]
    }
   ],
   "source": [
    "x = int(input(\"Enter table number: \"))\n",
    "y = int(input(\"Enter table upto: \"))\n",
    "for i in range(1,y+1):\n",
    "    print(\"{} * {} = {}\".format(x,i,x*i))"
   ]
  },
  {
   "cell_type": "code",
   "execution_count": 8,
   "metadata": {},
   "outputs": [
    {
     "name": "stdout",
     "output_type": "stream",
     "text": [
      "enter table upto: 2\n",
      "enter table length: 3\n",
      "1 * 1 = 1 \n",
      "1 * 2 = 2 \n",
      "1 * 3 = 3 \n"
     ]
    }
   ],
   "source": [
    "def table(x,y):\n",
    "    for i in range(1,y+1):\n",
    "        print(\"{} * {} = {} \".format(x,i,x*i))\n",
    "\n",
    "x = int(input(\"enter table upto: \"))\n",
    "y = int(input(\"enter table length: \"))\n",
    "for i in range(1,x):\n",
    "    table(1,y)"
   ]
  },
  {
   "cell_type": "code",
   "execution_count": 14,
   "metadata": {},
   "outputs": [
    {
     "name": "stdout",
     "output_type": "stream",
     "text": [
      "2 4 6 8 10 12 14 16 18 20 22 24 26 28 30 32 34 36 38 40 42 44 46 48 50 52 54 56 58 60 62 64 66 68 70 72 74 76 78 80 82 84 86 88 90 92 94 96 98 100 102 104 106 108 110 112 114 116 118 120 122 124 126 128 130 132 134 136 138 140 142 144 146 148 150 "
     ]
    }
   ],
   "source": [
    "def Even_Fun(a,b):\n",
    "    for i in range(a,b+1):\n",
    "        if i%2==0:\n",
    "            print(i,end=\" \")\n",
    "Even_Fun(1,150)"
   ]
  },
  {
   "cell_type": "code",
   "execution_count": 27,
   "metadata": {},
   "outputs": [
    {
     "name": "stdout",
     "output_type": "stream",
     "text": [
      "1 2 3 "
     ]
    }
   ],
   "source": [
    "def Factor_Fun(a):\n",
    "    for i in range(1,a//2+1):\n",
    "        if a%i==0:\n",
    "            print(i,end=\" \")\n",
    "Factor_Fun(6)"
   ]
  },
  {
   "cell_type": "code",
   "execution_count": 38,
   "metadata": {},
   "outputs": [
    {
     "data": {
      "text/plain": [
       "2"
      ]
     },
     "execution_count": 38,
     "metadata": {},
     "output_type": "execute_result"
    }
   ],
   "source": [
    "def Sum_Fact(n):\n",
    "    s = 0\n",
    "    for i in range(1,n):\n",
    "        if n%i ==0:\n",
    "            s+=1\n",
    "    return s\n",
    "Sum_Fact(4)"
   ]
  },
  {
   "cell_type": "code",
   "execution_count": 30,
   "metadata": {},
   "outputs": [
    {
     "name": "stdout",
     "output_type": "stream",
     "text": [
      "6  is not perfect number\n"
     ]
    }
   ],
   "source": [
    "def Perfect(n):\n",
    "    if n == Sum_Fact(n):\n",
    "        print(n,\"is perfect number\")\n",
    "    else:\n",
    "        print(n,\" is not perfect number\")\n",
    "Perfect(6)"
   ]
  },
  {
   "cell_type": "code",
   "execution_count": 31,
   "metadata": {},
   "outputs": [
    {
     "data": {
      "text/plain": [
       "720"
      ]
     },
     "execution_count": 31,
     "metadata": {},
     "output_type": "execute_result"
    }
   ],
   "source": [
    "#recrursive\n",
    "def Fact(n):\n",
    "    if n == 1 or n ==0 :\n",
    "        return 1\n",
    "    else :\n",
    "        return n*Fact(n-1)\n",
    "Fact(6)\n",
    "        "
   ]
  },
  {
   "cell_type": "code",
   "execution_count": 39,
   "metadata": {},
   "outputs": [
    {
     "data": {
      "text/plain": [
       "2"
      ]
     },
     "execution_count": 39,
     "metadata": {},
     "output_type": "execute_result"
    }
   ],
   "source": [
    "def Count_Fact(n):\n",
    "    cnt = 0\n",
    "    for i in range(1,n+1):\n",
    "        if n%i == 0:\n",
    "            cnt+=1\n",
    "    return cnt\n",
    "Count_Fact(5)"
   ]
  },
  {
   "cell_type": "code",
   "execution_count": 41,
   "metadata": {},
   "outputs": [
    {
     "name": "stdout",
     "output_type": "stream",
     "text": [
      "9 is not a Prime number\n"
     ]
    }
   ],
   "source": [
    "def Is_Prime(n):\n",
    "    if Count_Fact(n) == 2:\n",
    "        print(n,\"is a Prime number\")\n",
    "    else:\n",
    "        print(n,\"is not a Prime number\")\n",
    "Is_Prime(9)"
   ]
  },
  {
   "cell_type": "code",
   "execution_count": 43,
   "metadata": {},
   "outputs": [
    {
     "name": "stdout",
     "output_type": "stream",
     "text": [
      "1 is not a Prime number\n",
      "2 is a Prime number\n",
      "3 is a Prime number\n",
      "4 is not a Prime number\n",
      "5 is a Prime number\n",
      "6 is not a Prime number\n",
      "7 is a Prime number\n",
      "8 is not a Prime number\n",
      "9 is not a Prime number\n",
      "10 is not a Prime number\n",
      "11 is a Prime number\n",
      "12 is not a Prime number\n",
      "13 is a Prime number\n",
      "14 is not a Prime number\n",
      "15 is not a Prime number\n",
      "16 is not a Prime number\n",
      "17 is a Prime number\n",
      "18 is not a Prime number\n",
      "19 is a Prime number\n",
      "20 is not a Prime number\n",
      "21 is not a Prime number\n",
      "22 is not a Prime number\n",
      "23 is a Prime number\n",
      "24 is not a Prime number\n",
      "25 is not a Prime number\n",
      "26 is not a Prime number\n",
      "27 is not a Prime number\n",
      "28 is not a Prime number\n",
      "29 is a Prime number\n",
      "30 is not a Prime number\n",
      "31 is a Prime number\n",
      "32 is not a Prime number\n",
      "33 is not a Prime number\n",
      "34 is not a Prime number\n",
      "35 is not a Prime number\n",
      "36 is not a Prime number\n",
      "37 is a Prime number\n",
      "38 is not a Prime number\n",
      "39 is not a Prime number\n",
      "40 is not a Prime number\n",
      "41 is a Prime number\n",
      "42 is not a Prime number\n",
      "43 is a Prime number\n",
      "44 is not a Prime number\n",
      "45 is not a Prime number\n",
      "46 is not a Prime number\n",
      "47 is a Prime number\n",
      "48 is not a Prime number\n",
      "49 is not a Prime number\n",
      "50 is not a Prime number\n",
      "51 is not a Prime number\n",
      "52 is not a Prime number\n",
      "53 is a Prime number\n",
      "54 is not a Prime number\n",
      "55 is not a Prime number\n",
      "56 is not a Prime number\n",
      "57 is not a Prime number\n",
      "58 is not a Prime number\n",
      "59 is a Prime number\n",
      "60 is not a Prime number\n",
      "61 is a Prime number\n",
      "62 is not a Prime number\n",
      "63 is not a Prime number\n",
      "64 is not a Prime number\n",
      "65 is not a Prime number\n",
      "66 is not a Prime number\n",
      "67 is a Prime number\n",
      "68 is not a Prime number\n",
      "69 is not a Prime number\n",
      "70 is not a Prime number\n",
      "71 is a Prime number\n",
      "72 is not a Prime number\n",
      "73 is a Prime number\n",
      "74 is not a Prime number\n",
      "75 is not a Prime number\n",
      "76 is not a Prime number\n",
      "77 is not a Prime number\n",
      "78 is not a Prime number\n",
      "79 is a Prime number\n",
      "80 is not a Prime number\n",
      "81 is not a Prime number\n",
      "82 is not a Prime number\n",
      "83 is a Prime number\n",
      "84 is not a Prime number\n",
      "85 is not a Prime number\n",
      "86 is not a Prime number\n",
      "87 is not a Prime number\n",
      "88 is not a Prime number\n",
      "89 is a Prime number\n",
      "90 is not a Prime number\n",
      "91 is not a Prime number\n",
      "92 is not a Prime number\n",
      "93 is not a Prime number\n",
      "94 is not a Prime number\n",
      "95 is not a Prime number\n",
      "96 is not a Prime number\n",
      "97 is a Prime number\n",
      "98 is not a Prime number\n",
      "99 is not a Prime number\n",
      "100 is not a Prime number\n"
     ]
    }
   ],
   "source": [
    "def Prime_Generation(a,b):\n",
    "    for i in range(a,b+1):\n",
    "        if Is_Prime(i) == 2:\n",
    "            print(\"Is prime number\")\n",
    "Prime_Generation(1,100)"
   ]
  },
  {
   "cell_type": "markdown",
   "metadata": {},
   "source": [
    "### strings:\n",
    " - Collection of characters or groupsof characters\n",
    " - string will represent \" \"\n",
    " - string is orderd data\n",
    " - string is immutable data \n",
    " - string accept indexing and slicing"
   ]
  },
  {
   "cell_type": "code",
   "execution_count": 44,
   "metadata": {},
   "outputs": [
    {
     "data": {
      "text/plain": [
       "str"
      ]
     },
     "execution_count": 44,
     "metadata": {},
     "output_type": "execute_result"
    }
   ],
   "source": [
    "a = \"Prince\"\n",
    "type(a)"
   ]
  },
  {
   "cell_type": "code",
   "execution_count": 48,
   "metadata": {},
   "outputs": [
    {
     "data": {
      "text/plain": [
       "str"
      ]
     },
     "execution_count": 48,
     "metadata": {},
     "output_type": "execute_result"
    }
   ],
   "source": [
    "a = \"Prince\"\n",
    "a+= \"Roy\"\n",
    "type(a)\n"
   ]
  },
  {
   "cell_type": "code",
   "execution_count": 54,
   "metadata": {},
   "outputs": [
    {
     "data": {
      "text/plain": [
       "'P'"
      ]
     },
     "execution_count": 54,
     "metadata": {},
     "output_type": "execute_result"
    }
   ],
   "source": [
    "# indexing \n",
    "# forward indexing --> 0 to len(s)-1\n",
    "# reverse indexing --> -1 to -len(s)\n",
    "a[len(a)-1]\n",
    "a[-1]\n",
    "a[-len(a)]"
   ]
  },
  {
   "cell_type": "code",
   "execution_count": 56,
   "metadata": {},
   "outputs": [
    {
     "data": {
      "text/plain": [
       "'PrinceRoy'"
      ]
     },
     "execution_count": 56,
     "metadata": {},
     "output_type": "execute_result"
    }
   ],
   "source": [
    "# a = Prince\n",
    "# P->[0]r->[1]i->[2]n->[3]c->[4]e->[5]\n",
    "# slicing :\n",
    "a"
   ]
  },
  {
   "cell_type": "code",
   "execution_count": 63,
   "metadata": {},
   "outputs": [
    {
     "name": "stdout",
     "output_type": "stream",
     "text": [
      "Roy\n"
     ]
    }
   ],
   "source": [
    "# a = Prince\n",
    "# P->[0]r->[1]i->[2]n->[3]c->[4]e->[5]\n",
    "# s#licing :\n",
    "# var[start_val:end_val:ince]\n",
    "a\n",
    "print(a[6::])"
   ]
  },
  {
   "cell_type": "code",
   "execution_count": 65,
   "metadata": {},
   "outputs": [
    {
     "name": "stdout",
     "output_type": "stream",
     "text": [
      "PrinceRoy\n",
      "R\n",
      "eRoy\n"
     ]
    }
   ],
   "source": [
    "# a = Prince\n",
    "# P->[0]r->[1]i->[2]n->[3]c->[4]e->[5]\n",
    "# s#licing :\n",
    "# var[start_val:end_val:ince]\n",
    "print(a)\n",
    "print(a[6])\n",
    "print(a[5::])"
   ]
  },
  {
   "cell_type": "code",
   "execution_count": 67,
   "metadata": {},
   "outputs": [
    {
     "data": {
      "text/plain": [
       "'rinc'"
      ]
     },
     "execution_count": 67,
     "metadata": {},
     "output_type": "execute_result"
    }
   ],
   "source": [
    "a[1:5]"
   ]
  },
  {
   "cell_type": "code",
   "execution_count": 68,
   "metadata": {},
   "outputs": [
    {
     "data": {
      "text/plain": [
       "'PrinceRo'"
      ]
     },
     "execution_count": 68,
     "metadata": {},
     "output_type": "execute_result"
    }
   ],
   "source": [
    "a[0:8]"
   ]
  },
  {
   "cell_type": "code",
   "execution_count": 69,
   "metadata": {},
   "outputs": [
    {
     "data": {
      "text/plain": [
       "'re'"
      ]
     },
     "execution_count": 69,
     "metadata": {},
     "output_type": "execute_result"
    }
   ],
   "source": [
    "a[1::4]"
   ]
  },
  {
   "cell_type": "code",
   "execution_count": 70,
   "metadata": {},
   "outputs": [
    {
     "data": {
      "text/plain": [
       "'r'"
      ]
     },
     "execution_count": 70,
     "metadata": {},
     "output_type": "execute_result"
    }
   ],
   "source": [
    "a[1:2:3]"
   ]
  },
  {
   "cell_type": "code",
   "execution_count": 72,
   "metadata": {},
   "outputs": [
    {
     "name": "stdout",
     "output_type": "stream",
     "text": [
      "PrinceRoy\n"
     ]
    },
    {
     "data": {
      "text/plain": [
       "'y'"
      ]
     },
     "execution_count": 72,
     "metadata": {},
     "output_type": "execute_result"
    }
   ],
   "source": [
    "print(a)\n",
    "a[-1:]"
   ]
  },
  {
   "cell_type": "code",
   "execution_count": 73,
   "metadata": {},
   "outputs": [
    {
     "name": "stdout",
     "output_type": "stream",
     "text": [
      "PrinceRoy\n"
     ]
    },
    {
     "data": {
      "text/plain": [
       "'yP'"
      ]
     },
     "execution_count": 73,
     "metadata": {},
     "output_type": "execute_result"
    }
   ],
   "source": [
    "print(a)\n",
    "a[-1::-8]"
   ]
  },
  {
   "cell_type": "code",
   "execution_count": null,
   "metadata": {},
   "outputs": [
    {
     "name": "stdout",
     "output_type": "stream",
     "text": [
      "Please Enter any Number: 121\n"
     ]
    }
   ],
   "source": [
    "# Python Program to Reverse a Number using While loop.\n",
    "Number = int(input(\"Please Enter any Number: \"))\n",
    "Reverse = 0.\n",
    "while(Number > 0):\n",
    "    Reminder = Number %10.\n",
    "Reverse = (Reverse *10) + Reminder\n",
    "Number = Number //10.\n",
    "print(\"\\n Reverse of entered number is = %d\" %Reverse)"
   ]
  },
  {
   "cell_type": "code",
   "execution_count": 19,
   "metadata": {},
   "outputs": [
    {
     "data": {
      "text/plain": [
       "'gnimmargorP'"
      ]
     },
     "execution_count": 19,
     "metadata": {},
     "output_type": "execute_result"
    }
   ],
   "source": [
    "a = \"Python Programming\"\n",
    "# reverse string\n",
    "a[7:18][::-1]"
   ]
  },
  {
   "cell_type": "code",
   "execution_count": 30,
   "metadata": {},
   "outputs": [
    {
     "data": {
      "text/plain": [
       "True"
      ]
     },
     "execution_count": 30,
     "metadata": {},
     "output_type": "execute_result"
    }
   ],
   "source": [
    "def Palindrome_Check(word):\n",
    "    if word == word[::-1]:\n",
    "        return True\n",
    "    else :\n",
    "        return False\n",
    "word = \"malayalam\"\n",
    "Palindrome_Check(word)"
   ]
  },
  {
   "cell_type": "code",
   "execution_count": 44,
   "metadata": {},
   "outputs": [
    {
     "data": {
      "text/plain": [
       "'Pytho    '"
      ]
     },
     "execution_count": 44,
     "metadata": {},
     "output_type": "execute_result"
    }
   ],
   "source": [
    "a = a[0:6][::-1]+\"\" +a[6:18]\n",
    "a"
   ]
  },
  {
   "cell_type": "code",
   "execution_count": 46,
   "metadata": {},
   "outputs": [
    {
     "data": {
      "text/plain": [
       "['__add__',\n",
       " '__class__',\n",
       " '__contains__',\n",
       " '__delattr__',\n",
       " '__dir__',\n",
       " '__doc__',\n",
       " '__eq__',\n",
       " '__format__',\n",
       " '__ge__',\n",
       " '__getattribute__',\n",
       " '__getitem__',\n",
       " '__getnewargs__',\n",
       " '__gt__',\n",
       " '__hash__',\n",
       " '__init__',\n",
       " '__init_subclass__',\n",
       " '__iter__',\n",
       " '__le__',\n",
       " '__len__',\n",
       " '__lt__',\n",
       " '__mod__',\n",
       " '__mul__',\n",
       " '__ne__',\n",
       " '__new__',\n",
       " '__reduce__',\n",
       " '__reduce_ex__',\n",
       " '__repr__',\n",
       " '__rmod__',\n",
       " '__rmul__',\n",
       " '__setattr__',\n",
       " '__sizeof__',\n",
       " '__str__',\n",
       " '__subclasshook__',\n",
       " 'capitalize',\n",
       " 'casefold',\n",
       " 'center',\n",
       " 'count',\n",
       " 'encode',\n",
       " 'endswith',\n",
       " 'expandtabs',\n",
       " 'find',\n",
       " 'format',\n",
       " 'format_map',\n",
       " 'index',\n",
       " 'isalnum',\n",
       " 'isalpha',\n",
       " 'isascii',\n",
       " 'isdecimal',\n",
       " 'isdigit',\n",
       " 'isidentifier',\n",
       " 'islower',\n",
       " 'isnumeric',\n",
       " 'isprintable',\n",
       " 'isspace',\n",
       " 'istitle',\n",
       " 'isupper',\n",
       " 'join',\n",
       " 'ljust',\n",
       " 'lower',\n",
       " 'lstrip',\n",
       " 'maketrans',\n",
       " 'partition',\n",
       " 'replace',\n",
       " 'rfind',\n",
       " 'rindex',\n",
       " 'rjust',\n",
       " 'rpartition',\n",
       " 'rsplit',\n",
       " 'rstrip',\n",
       " 'split',\n",
       " 'splitlines',\n",
       " 'startswith',\n",
       " 'strip',\n",
       " 'swapcase',\n",
       " 'title',\n",
       " 'translate',\n",
       " 'upper',\n",
       " 'zfill']"
      ]
     },
     "execution_count": 46,
     "metadata": {},
     "output_type": "execute_result"
    }
   ],
   "source": [
    "# method \n",
    "dir (str)"
   ]
  },
  {
   "cell_type": "code",
   "execution_count": 47,
   "metadata": {},
   "outputs": [],
   "source": [
    "a = \"Prince \""
   ]
  },
  {
   "cell_type": "code",
   "execution_count": 50,
   "metadata": {},
   "outputs": [
    {
     "name": "stdout",
     "output_type": "stream",
     "text": [
      "Prince"
     ]
    }
   ],
   "source": [
    "for i in range(len(a)):\n",
    "    print(a[i],end=\"\")\n",
    "    "
   ]
  },
  {
   "cell_type": "code",
   "execution_count": 53,
   "metadata": {},
   "outputs": [
    {
     "data": {
      "text/plain": [
       "'Prince'"
      ]
     },
     "execution_count": 53,
     "metadata": {},
     "output_type": "execute_result"
    }
   ],
   "source": [
    "a.capitalize()#return thr first letter as capitalize"
   ]
  },
  {
   "cell_type": "code",
   "execution_count": 54,
   "metadata": {},
   "outputs": [
    {
     "data": {
      "text/plain": [
       "'prince'"
      ]
     },
     "execution_count": 54,
     "metadata": {},
     "output_type": "execute_result"
    }
   ],
   "source": [
    "a.casefold()#all the letter as small"
   ]
  },
  {
   "cell_type": "code",
   "execution_count": 55,
   "metadata": {},
   "outputs": [
    {
     "data": {
      "text/plain": [
       "'Prince'"
      ]
     },
     "execution_count": 55,
     "metadata": {},
     "output_type": "execute_result"
    }
   ],
   "source": [
    "a.casefold()# all the letter as small\n",
    "#lower\n",
    "a.lower()\n",
    "a"
   ]
  },
  {
   "cell_type": "code",
   "execution_count": 57,
   "metadata": {},
   "outputs": [
    {
     "data": {
      "text/plain": [
       "1"
      ]
     },
     "execution_count": 57,
     "metadata": {},
     "output_type": "execute_result"
    }
   ],
   "source": [
    "a.casefold()\n",
    "a.lower\n",
    "a.count(\"P\")"
   ]
  },
  {
   "cell_type": "code",
   "execution_count": null,
   "metadata": {},
   "outputs": [],
   "source": []
  },
  {
   "cell_type": "code",
   "execution_count": null,
   "metadata": {},
   "outputs": [],
   "source": []
  },
  {
   "cell_type": "code",
   "execution_count": null,
   "metadata": {},
   "outputs": [],
   "source": []
  }
 ],
 "metadata": {
  "kernelspec": {
   "display_name": "Python 3",
   "language": "python",
   "name": "python3"
  },
  "language_info": {
   "codemirror_mode": {
    "name": "ipython",
    "version": 3
   },
   "file_extension": ".py",
   "mimetype": "text/x-python",
   "name": "python",
   "nbconvert_exporter": "python",
   "pygments_lexer": "ipython3",
   "version": "3.7.3"
  }
 },
 "nbformat": 4,
 "nbformat_minor": 2
}
